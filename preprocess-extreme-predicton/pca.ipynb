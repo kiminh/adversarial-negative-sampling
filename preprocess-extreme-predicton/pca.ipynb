{
 "cells": [
  {
   "cell_type": "code",
   "execution_count": 14,
   "metadata": {
    "collapsed": true
   },
   "outputs": [],
   "source": [
    "import numpy as np\n",
    "import subprocess\n",
    "import matplotlib\n",
    "matplotlib.rcParams['pdf.fonttype'] = 42\n",
    "matplotlib.rcParams['ps.fonttype'] = 42\n",
    "import matplotlib.pyplot as plt"
   ]
  },
  {
   "cell_type": "code",
   "execution_count": 2,
   "metadata": {
    "collapsed": true
   },
   "outputs": [],
   "source": [
    "%matplotlib inline"
   ]
  },
  {
   "cell_type": "markdown",
   "metadata": {},
   "source": [
    "## Preprocessing Functions"
   ]
  },
  {
   "cell_type": "code",
   "execution_count": 3,
   "metadata": {
    "collapsed": true
   },
   "outputs": [],
   "source": [
    "def load_dat(path):\n",
    "    print('Loading \"%s\" ...' % path)\n",
    "    with open(path, 'rb') as f:\n",
    "        n, k = np.fromfile(f, dtype=np.int32, count=2)\n",
    "        dat = np.fromfile(f, dtype=np.float32, count=n*k).reshape((n, k))\n",
    "        # Make sure that we've reached EOF\n",
    "        assert len(f.read(1)) == 0\n",
    "    print('=> shape: (%d, %d)' % dat.shape)\n",
    "\n",
    "    # Transpose `dat` to make summations over data index fast.\n",
    "    # Convert to double precision because PCA turned out a bit unstable with single precision.\n",
    "    return dat.T.astype(np.float64)"
   ]
  },
  {
   "cell_type": "code",
   "execution_count": 4,
   "metadata": {},
   "outputs": [],
   "source": [
    "def fit_pca(dat, out_ks=[16, 32, 64]):\n",
    "    mean = dat.mean(axis=1, keepdims=True)\n",
    "    normalized = dat - mean\n",
    "    variance = (normalized ** 2).mean(axis=1, keepdims=True)\n",
    "    cov_unscaled = normalized.dot(normalized.T) / normalized.shape[1]\n",
    "    normalized /= np.sqrt(variance)\n",
    "    cov_scaled = normalized.dot(normalized.T) / normalized.shape[1]\n",
    "    del normalized\n",
    "\n",
    "    assert np.allclose(np.diag(cov_unscaled), variance[:, 0])\n",
    "    assert np.allclose(np.diag(cov_scaled), np.ones((variance.shape[0],)))\n",
    "    \n",
    "    eigvals, eigvecs = np.linalg.eigh(cov_scaled)\n",
    "    assert np.allclose(eigvecs.dot(np.diag(eigvals)).dot(eigvecs.T), cov_scaled)\n",
    "    assert np.allclose(eigvecs.T.dot(cov_scaled).dot(eigvecs), np.diag(eigvals))\n",
    "    \n",
    "    transform = eigvecs.T.copy() / np.sqrt(variance.reshape((1, -1)) * eigvals.reshape((-1, 1)))\n",
    "    assert np.allclose(transform.dot(cov_unscaled).dot(transform.T), np.eye(len(eigvals)))\n",
    "    \n",
    "    fig, ax = plt.subplots()\n",
    "    ax.plot(range(len(eigvals), 0, -1), eigvals)\n",
    "    for k in out_ks:\n",
    "        ax.plot((k, k), (eigvals[0], eigvals[-1]), ':', label='k=%d' % k)\n",
    "    ax.set_yscale('log')\n",
    "    ax.legend()    \n",
    "    \n",
    "    return mean, transform"
   ]
  },
  {
   "cell_type": "code",
   "execution_count": 5,
   "metadata": {},
   "outputs": [],
   "source": [
    "def reduce_dim(dat, mean, transform, base_out_path, out_ks=[16, 32, 64]):\n",
    "    for k in out_ks:\n",
    "        small = transform[-k:, :].dot(dat - mean).T.astype(np.float32)\n",
    "        out_path = '%s-k%d.np' % (base_out_path, k)\n",
    "        print('Saving (%d, %d) array to \"%s\" ...' % tuple(list(small.shape) + [out_path]))\n",
    "        with open(out_path, 'wb') as out_file:\n",
    "            np.array(small.shape, dtype=np.int32).tofile(out_file)\n",
    "            small.tofile(out_file)\n",
    "    print('Done.')"
   ]
  },
  {
   "cell_type": "markdown",
   "metadata": {},
   "source": [
    "## Process Wikipedia-500K"
   ]
  },
  {
   "cell_type": "code",
   "execution_count": 6,
   "metadata": {},
   "outputs": [
    {
     "name": "stdout",
     "output_type": "stream",
     "text": [
      "Loading \"../../dat/Wikipedia-500K/train-features-full.np\" ...\n",
      "=> shape: (1646302, 512)\n"
     ]
    }
   ],
   "source": [
    "wdat = load_dat('../../dat/Wikipedia-500K/train-features-full.np')"
   ]
  },
  {
   "cell_type": "code",
   "execution_count": 7,
   "metadata": {
    "scrolled": true
   },
   "outputs": [
    {
     "data": {
      "image/png": "[encoded data removed]",
      "text/plain": [
       "<matplotlib.figure.Figure at 0x7fe571ce2470>"
      ]
     },
     "metadata": {},
     "output_type": "display_data"
    }
   ],
   "source": [
    "wmean, wtransform = fit_pca(wdat)"
   ]
  },
  {
   "cell_type": "code",
   "execution_count": 8,
   "metadata": {
    "scrolled": true
   },
   "outputs": [
    {
     "name": "stdout",
     "output_type": "stream",
     "text": [
      "Saving (1646302, 16) array to \"../../dat/Wikipedia-500K/train-features-k16.np\" ...\n",
      "Saving (1646302, 32) array to \"../../dat/Wikipedia-500K/train-features-k32.np\" ...\n",
      "Saving (1646302, 64) array to \"../../dat/Wikipedia-500K/train-features-k64.np\" ...\n",
      "Done.\n"
     ]
    }
   ],
   "source": [
    "reduce_dim(wdat, wmean, wtransform, '../../dat/Wikipedia-500K/train-features')"
   ]
  },
  {
   "cell_type": "code",
   "execution_count": 9,
   "metadata": {
    "collapsed": true
   },
   "outputs": [],
   "source": [
    "del wdat"
   ]
  },
  {
   "cell_type": "code",
   "execution_count": 10,
   "metadata": {},
   "outputs": [
    {
     "name": "stdout",
     "output_type": "stream",
     "text": [
      "Loading \"../../dat/Wikipedia-500K/valid-features-full.np\" ...\n",
      "=> shape: (135946, 512)\n",
      "Saving (135946, 16) array to \"../../dat/Wikipedia-500K/valid-features-k16.np\" ...\n",
      "Saving (135946, 32) array to \"../../dat/Wikipedia-500K/valid-features-k32.np\" ...\n",
      "Saving (135946, 64) array to \"../../dat/Wikipedia-500K/valid-features-k64.np\" ...\n",
      "Done.\n"
     ]
    }
   ],
   "source": [
    "wdat_valid = load_dat('../../dat/Wikipedia-500K/valid-features-full.np')\n",
    "reduce_dim(wdat_valid, wmean, wtransform, '../../dat/Wikipedia-500K/valid-features')"
   ]
  },
  {
   "cell_type": "code",
   "execution_count": 11,
   "metadata": {
    "collapsed": true
   },
   "outputs": [],
   "source": [
    "del wdat_valid"
   ]
  },
  {
   "cell_type": "code",
   "execution_count": 12,
   "metadata": {},
   "outputs": [
    {
     "name": "stdout",
     "output_type": "stream",
     "text": [
      "Loading \"../../dat/Wikipedia-500K/test-features-full.np\" ...\n",
      "=> shape: (543784, 512)\n",
      "Saving (543784, 16) array to \"../../dat/Wikipedia-500K/test-features-k16.np\" ...\n",
      "Saving (543784, 32) array to \"../../dat/Wikipedia-500K/test-features-k32.np\" ...\n",
      "Saving (543784, 64) array to \"../../dat/Wikipedia-500K/test-features-k64.np\" ...\n",
      "Done.\n"
     ]
    }
   ],
   "source": [
    "wdat_test = load_dat('../../dat/Wikipedia-500K/test-features-full.np')\n",
    "reduce_dim(wdat_test, wmean, wtransform, '../../dat/Wikipedia-500K/test-features')"
   ]
  },
  {
   "cell_type": "code",
   "execution_count": 13,
   "metadata": {
    "collapsed": true
   },
   "outputs": [],
   "source": [
    "del wdat_test, wmean, wtransform"
   ]
  },
  {
   "cell_type": "markdown",
   "metadata": {},
   "source": [
    "## Process Amazon-670K"
   ]
  },
  {
   "cell_type": "code",
   "execution_count": 38,
   "metadata": {},
   "outputs": [
    {
     "name": "stdout",
     "output_type": "stream",
     "text": [
      "Loading \"../../dat/Amazon-670K/train-features-full.np\" ...\n",
      "=> shape: (490449, 512)\n"
     ]
    }
   ],
   "source": [
    "adat = load_dat('../../dat/Amazon-670K/train-features-full.np')"
   ]
  },
  {
   "cell_type": "code",
   "execution_count": 39,
   "metadata": {},
   "outputs": [
    {
     "data": {
      "image/png": "[encoded data removed]",
      "text/plain": [
       "<matplotlib.figure.Figure at 0x7fbe7c570630>"
      ]
     },
     "metadata": {},
     "output_type": "display_data"
    }
   ],
   "source": [
    "amean, atransform = fit_pca(adat)"
   ]
  },
  {
   "cell_type": "code",
   "execution_count": 42,
   "metadata": {},
   "outputs": [
    {
     "name": "stdout",
     "output_type": "stream",
     "text": [
      "Saving (490449, 16) array to \"../../dat/Amazon-670K/train-features-k16.np\" ...\n",
      "Saving (490449, 32) array to \"../../dat/Amazon-670K/train-features-k32.np\" ...\n",
      "Saving (490449, 64) array to \"../../dat/Amazon-670K/train-features-k64.np\" ...\n",
      "Done.\n"
     ]
    }
   ],
   "source": [
    "reduce_dim(adat, amean, atransform, '../../dat/Amazon-670K/train-features')"
   ]
  },
  {
   "cell_type": "code",
   "execution_count": 43,
   "metadata": {
    "collapsed": true
   },
   "outputs": [],
   "source": [
    "del adat"
   ]
  },
  {
   "cell_type": "code",
   "execution_count": 44,
   "metadata": {},
   "outputs": [
    {
     "name": "stdout",
     "output_type": "stream",
     "text": [
      "Loading \"../../dat/Amazon-670K/valid-features-full.np\" ...\n",
      "=> shape: (25845, 512)\n",
      "Saving (25845, 16) array to \"../../dat/Amazon-670K/valid-features-k16.np\" ...\n",
      "Saving (25845, 32) array to \"../../dat/Amazon-670K/valid-features-k32.np\" ...\n",
      "Saving (25845, 64) array to \"../../dat/Amazon-670K/valid-features-k64.np\" ...\n",
      "Done.\n"
     ]
    }
   ],
   "source": [
    "adat_valid = load_dat('../../dat/Amazon-670K/valid-features-full.np')\n",
    "reduce_dim(adat_valid, amean, atransform, '../../dat/Amazon-670K/valid-features')"
   ]
  },
  {
   "cell_type": "code",
   "execution_count": 45,
   "metadata": {
    "collapsed": true
   },
   "outputs": [],
   "source": [
    "del adat_valid"
   ]
  },
  {
   "cell_type": "code",
   "execution_count": 46,
   "metadata": {},
   "outputs": [
    {
     "name": "stdout",
     "output_type": "stream",
     "text": [
      "Loading \"../../dat/Amazon-670K/test-features-full.np\" ...\n",
      "=> shape: (103381, 512)\n",
      "Saving (103381, 16) array to \"../../dat/Amazon-670K/test-features-k16.np\" ...\n",
      "Saving (103381, 32) array to \"../../dat/Amazon-670K/test-features-k32.np\" ...\n",
      "Saving (103381, 64) array to \"../../dat/Amazon-670K/test-features-k64.np\" ...\n",
      "Done.\n"
     ]
    }
   ],
   "source": [
    "adat_test = load_dat('../../dat/Amazon-670K/test-features-full.np')\n",
    "reduce_dim(adat_test, amean, atransform, '../../dat/Amazon-670K/test-features')"
   ]
  },
  {
   "cell_type": "code",
   "execution_count": 47,
   "metadata": {},
   "outputs": [],
   "source": [
    "del adat_test, amean, atransform"
   ]
  },
  {
   "cell_type": "code",
   "execution_count": null,
   "metadata": {
    "collapsed": true
   },
   "outputs": [],
   "source": []
  }
 ],
 "metadata": {
  "kernelspec": {
   "display_name": "Python 3",
   "language": "python",
   "name": "python3"
  },
  "language_info": {
   "codemirror_mode": {
    "name": "ipython",
    "version": 3
   },
   "file_extension": ".py",
   "mimetype": "text/x-python",
   "name": "python",
   "nbconvert_exporter": "python",
   "pygments_lexer": "ipython3",
   "version": "3.6.3"
  }
 },
 "nbformat": 4,
 "nbformat_minor": 2
}
